{
 "cells": [
  {
   "cell_type": "code",
   "execution_count": null,
   "id": "55ece688",
   "metadata": {},
   "outputs": [],
   "source": []
  },
  {
   "cell_type": "code",
   "execution_count": 6,
   "id": "6009d16c",
   "metadata": {},
   "outputs": [
    {
     "name": "stdout",
     "output_type": "stream",
     "text": [
      "[2023/12/22 23:16:43] ppocr DEBUG: Namespace(alpha=1.0, benchmark=False, beta=1.0, cls_batch_num=6, cls_image_shape='3, 48, 192', cls_model_dir='C:\\\\Users\\\\vikra/.paddleocr/whl\\\\cls\\\\ch_ppocr_mobile_v2.0_cls_infer', cls_thresh=0.9, cpu_threads=10, crop_res_save_dir='./output', det=True, det_algorithm='DB', det_box_type='quad', det_db_box_thresh=0.6, det_db_score_mode='fast', det_db_thresh=0.3, det_db_unclip_ratio=1.5, det_east_cover_thresh=0.1, det_east_nms_thresh=0.2, det_east_score_thresh=0.8, det_limit_side_len=960, det_limit_type='max', det_model_dir='C:\\\\Users\\\\vikra/.paddleocr/whl\\\\det\\\\ch\\\\ch_PP-OCRv3_det_infer', det_pse_box_thresh=0.85, det_pse_min_area=16, det_pse_scale=1, det_pse_thresh=0, det_sast_nms_thresh=0.2, det_sast_score_thresh=0.5, draw_img_save_dir='./inference_results', drop_score=0.5, e2e_algorithm='PGNet', e2e_char_dict_path='./ppocr/utils/ic15_dict.txt', e2e_limit_side_len=768, e2e_limit_type='max', e2e_model_dir=None, e2e_pgnet_mode='fast', e2e_pgnet_score_thresh=0.5, e2e_pgnet_valid_set='totaltext', enable_mkldnn=False, fourier_degree=5, gpu_mem=500, help='==SUPPRESS==', image_dir=None, image_orientation=False, ir_optim=True, kie_algorithm='LayoutXLM', label_list=['0', '180'], lang='ch', layout=True, layout_dict_path=None, layout_model_dir=None, layout_nms_threshold=0.5, layout_score_threshold=0.5, max_batch_size=10, max_text_length=25, merge_no_span_structure=True, min_subgraph_size=15, mode='structure', ocr=True, ocr_order_method=None, ocr_version='PP-OCRv3', output='./output', page_num=0, precision='fp32', process_id=0, re_model_dir=None, rec=True, rec_algorithm='SVTR_LCNet', rec_batch_num=6, rec_char_dict_path='C:\\\\Users\\\\vikra\\\\anaconda3\\\\envs\\\\myenv\\\\lib\\\\site-packages\\\\paddleocr\\\\ppocr\\\\utils\\\\ppocr_keys_v1.txt', rec_image_inverse=True, rec_image_shape='3, 48, 320', rec_model_dir='C:\\\\Users\\\\vikra/.paddleocr/whl\\\\rec\\\\ch\\\\ch_PP-OCRv3_rec_infer', recovery=False, save_crop_res=False, save_log_path='./log_output/', scales=[8, 16, 32], ser_dict_path='../train_data/XFUND/class_list_xfun.txt', ser_model_dir=None, show_log=True, sr_batch_num=1, sr_image_shape='3, 32, 128', sr_model_dir=None, structure_version='PP-StructureV2', table=True, table_algorithm='TableAttn', table_char_dict_path=None, table_max_len=488, table_model_dir=None, total_process_num=1, type='ocr', use_angle_cls=True, use_dilation=False, use_gpu=False, use_mp=False, use_npu=False, use_onnx=False, use_pdf2docx_api=False, use_pdserving=False, use_space_char=True, use_tensorrt=False, use_visual_backbone=True, use_xpu=False, vis_font_path='./doc/fonts/simfang.ttf', warmup=False)\n",
      "[2023/12/22 23:16:45] ppocr DEBUG: dt_boxes num : 68, elapse : 0.8040952682495117\n",
      "[2023/12/22 23:16:46] ppocr DEBUG: cls num  : 68, elapse : 0.984018087387085\n",
      "[2023/12/22 23:17:03] ppocr DEBUG: rec_res num  : 68, elapse : 17.525554895401\n"
     ]
    },
    {
     "data": {
      "text/plain": [
       "[[[[[273.0, 64.0], [291.0, 64.0], [288.0, 276.0], [269.0, 276.0]],\n",
       "   ('THESEARE TO REQUESTAND', 0.8919927477836609)],\n",
       "  [[[312.0, 65.0], [330.0, 65.0], [326.0, 275.0], [309.0, 275.0]],\n",
       "   ('PRESIDENT OF THE REPUBLIC', 0.905276894569397)],\n",
       "  [[[331.0, 65.0], [349.0, 65.0], [346.0, 278.0], [327.0, 278.0]],\n",
       "   ('OFINDIAALLTHOSE WHOM IT', 0.8993435502052307)],\n",
       "  [[[349.0, 65.0], [368.0, 65.0], [365.0, 275.0], [347.0, 275.0]],\n",
       "   ('MAYCONCERNTOALLOW THE', 0.9753064513206482)],\n",
       "  [[[370.0, 67.0], [385.0, 67.0], [383.0, 275.0], [368.0, 275.0]],\n",
       "   ('BEARERTO PASSFREELY', 0.9105561971664429)],\n",
       "  [[[429.0, 67.0], [444.0, 67.0], [444.0, 107.0], [429.0, 107.0]],\n",
       "   ('aNV', 0.5880880355834961)],\n",
       "  [[[444.0, 66.0], [463.0, 66.0], [463.0, 275.0], [444.0, 275.0]],\n",
       "   ('PROTECTIONOF WHICH HE OR', 0.9112616181373596)],\n",
       "  [[[506.0, 64.0], [528.0, 64.0], [526.0, 279.0], [504.0, 279.0]],\n",
       "   ('BY ORDER OF THE PRESIDENT', 0.9190005660057068)],\n",
       "  [[[604.0, 73.0], [629.0, 71.0], [646.0, 299.0], [621.0, 301.0]],\n",
       "   ('Md.MAHABOOBALI', 0.9770919680595398)],\n",
       "  [[[674.0, 74.0], [697.0, 72.0], [715.0, 289.0], [692.0, 291.0]],\n",
       "   ('ForPassportOfficer', 0.9782788157463074)],\n",
       "  [[[698.0, 76.0], [723.0, 74.0], [739.0, 281.0], [714.0, 283.0]],\n",
       "   ('Baiar/Hyderabad.', 0.727310836315155)],\n",
       "  [[[651.0, 86.0], [674.0, 84.0], [691.0, 277.0], [668.0, 279.0]],\n",
       "   ('lcenue pihzlhpe', 0.5101612210273743)],\n",
       "  [[[465.0, 96.0], [482.0, 96.0], [479.0, 275.0], [461.0, 275.0]],\n",
       "   ('SHEMAYSTAND INNEED.', 0.8814076781272888)],\n",
       "  [[[428.0, 110.0], [442.0, 110.0], [442.0, 220.0], [428.0, 220.0]],\n",
       "   ('ASSISTANCE', 0.8806645274162292)],\n",
       "  [[[569.0, 139.0], [595.0, 139.0], [595.0, 182.0], [569.0, 182.0]],\n",
       "   ('6H', 0.6213529109954834)],\n",
       "  [[[371.0, 287.0], [394.0, 287.0], [390.0, 497.0], [368.0, 497.0]],\n",
       "   ('K华2', 0.6038336157798767)],\n",
       "  [[[602.0, 340.0], [638.0, 336.0], [640.0, 348.0], [603.0, 352.0]],\n",
       "   ('A2FS', 0.5708506107330322)],\n",
       "  [[[122.0, 503.0], [682.0, 503.0], [682.0, 529.0], [122.0, 529.0]],\n",
       "   ('SAMPLE - IMMIHELP.COM', 0.9770462512969971)],\n",
       "  [[[360.0, 570.0], [638.0, 573.0], [638.0, 595.0], [360.0, 592.0]],\n",
       "   ('REPUBLICOFINDIA', 0.9508510828018188)],\n",
       "  [[[291.0, 595.0], [357.0, 599.0], [356.0, 614.0], [290.0, 610.0]],\n",
       "   ('ertq/Type', 0.7835981845855713)],\n",
       "  [[[406.0, 597.0], [553.0, 598.0], [553.0, 617.0], [406.0, 616.0]],\n",
       "   ('ga/Country Code', 0.8185517191886902)],\n",
       "  [[[600.0, 601.0], [741.0, 603.0], [741.0, 618.0], [600.0, 616.0]],\n",
       "   ('mrrgrea./PassportNo.', 0.7552264928817749)],\n",
       "  [[[314.0, 614.0], [333.0, 614.0], [333.0, 629.0], [314.0, 629.0]],\n",
       "   ('P', 0.9347996711730957)],\n",
       "  [[[461.0, 615.0], [501.0, 615.0], [501.0, 635.0], [461.0, 635.0]],\n",
       "   ('ONI', 0.8521303534507751)],\n",
       "  [[[596.0, 620.0], [743.0, 622.0], [743.0, 641.0], [596.0, 640.0]],\n",
       "   ('J8369854', 0.9486144185066223)],\n",
       "  [[[292.0, 635.0], [389.0, 635.0], [389.0, 646.0], [292.0, 646.0]],\n",
       "   ('oueuins/he', 0.7226663827896118)],\n",
       "  [[[296.0, 649.0], [418.0, 651.0], [418.0, 667.0], [296.0, 664.0]],\n",
       "   ('RAMADUGULA', 0.8579438924789429)],\n",
       "  [[[290.0, 672.0], [455.0, 675.0], [455.0, 691.0], [290.0, 687.0]],\n",
       "   ('fe/GivenName(s)', 0.8844133615493774)],\n",
       "  [[[295.0, 695.0], [500.0, 699.0], [499.0, 717.0], [294.0, 714.0]],\n",
       "   ('SITA MAHA LAKSHMI', 0.954269289970398)],\n",
       "  [[[289.0, 720.0], [410.0, 723.0], [410.0, 738.0], [289.0, 736.0]],\n",
       "   ('ghan/Nationality', 0.7710739374160767)],\n",
       "  [[[492.0, 722.0], [552.0, 725.0], [552.0, 741.0], [492.0, 738.0]],\n",
       "   ('forr/Sex', 0.784934401512146)],\n",
       "  [[[606.0, 724.0], [741.0, 727.0], [740.0, 743.0], [605.0, 739.0]],\n",
       "   ('Gruferfa/Dateof Birth', 0.7883089184761047)],\n",
       "  [[[312.0, 737.0], [385.0, 739.0], [385.0, 759.0], [312.0, 757.0]],\n",
       "   ('INDIAN', 0.9368691444396973)],\n",
       "  [[[577.0, 747.0], [700.0, 749.0], [700.0, 768.0], [577.0, 765.0]],\n",
       "   ('23/09/1959', 0.9408720135688782)],\n",
       "  [[[288.0, 767.0], [432.0, 769.0], [432.0, 784.0], [288.0, 782.0]],\n",
       "   ('Gra-/Placeof Birth', 0.8132601976394653)],\n",
       "  [[[294.0, 783.0], [428.0, 787.0], [427.0, 805.0], [293.0, 802.0]],\n",
       "   ('GUNDUGOLANU', 0.9357025027275085)],\n",
       "  [[[356.0, 815.0], [551.0, 820.0], [551.0, 834.0], [356.0, 829.0]],\n",
       "   ('ort/Placeoflssue', 0.6970546841621399)],\n",
       "  [[[334.0, 828.0], [472.0, 834.0], [471.0, 854.0], [334.0, 848.0]],\n",
       "   ('THYDERABAD', 0.9391123056411743)],\n",
       "  [[[93.0, 841.0], [285.0, 850.0], [284.0, 880.0], [91.0, 872.0]],\n",
       "   ('R.S.Jokghan', 0.7839588522911072)],\n",
       "  [[[353.0, 859.0], [542.0, 866.0], [542.0, 885.0], [352.0, 878.0]],\n",
       "   ('undetalfafar/Dateof lesuo', 0.7172439098358154)],\n",
       "  [[[558.0, 863.0], [737.0, 870.0], [736.0, 886.0], [557.0, 879.0]],\n",
       "   ('wnftaaffaf/DateofExpiry', 0.8144255876541138)],\n",
       "  [[[357.0, 883.0], [480.0, 886.0], [480.0, 905.0], [357.0, 903.0]],\n",
       "   ('11/10/2011', 0.9075130224227905)],\n",
       "  [[[575.0, 888.0], [697.0, 890.0], [697.0, 909.0], [575.0, 906.0]],\n",
       "   ('10/10/2021', 0.9150424003601074)],\n",
       "  [[[56.0, 937.0], [715.0, 949.0], [714.0, 971.0], [55.0, 959.0]],\n",
       "   ('P<INDRAMADUGULA<<SITA<MAHA<LAKSHMI<<<<<<<<', 0.8123198747634888)],\n",
       "  [[[55.0, 971.0], [715.0, 985.0], [714.0, 1007.0], [54.0, 993.0]],\n",
       "   ('J8369854<4IND5909234F2110101<<<<<<8', 0.8158041834831238)]]]"
      ]
     },
     "execution_count": 6,
     "metadata": {},
     "output_type": "execute_result"
    }
   ],
   "source": [
    "from paddleocr import PaddleOCR, draw_ocr\n",
    "ocr = PaddleOCR(use_angle_cls=True)\n",
    "result = ocr.ocr(r\"C:\\Users\\vikra\\Downloads\\passportcanada\\passimg.jpg\")\n",
    "result"
   ]
  },
  {
   "cell_type": "code",
   "execution_count": 5,
   "id": "49a07e57",
   "metadata": {},
   "outputs": [
    {
     "name": "stdout",
     "output_type": "stream",
     "text": [
      "[2023/12/22 23:12:55] ppocr DEBUG: dt_boxes num : 68, elapse : 0.9529159069061279\n",
      "[2023/12/22 23:12:57] ppocr DEBUG: cls num  : 68, elapse : 1.2469267845153809\n",
      "[2023/12/22 23:13:14] ppocr DEBUG: rec_res num  : 68, elapse : 17.656418085098267\n",
      "[2023/12/22 23:13:15] ppocr DEBUG: dt_boxes num : 33, elapse : 0.737480640411377\n",
      "[2023/12/22 23:13:16] ppocr DEBUG: cls num  : 33, elapse : 0.4746546745300293\n",
      "[2023/12/22 23:13:24] ppocr DEBUG: rec_res num  : 33, elapse : 8.328387022018433\n"
     ]
    }
   ],
   "source": [
    "import os\n",
    "from PIL import Image\n",
    "# Set the path to the directory containing images\n",
    "dir_path = r\"C:\\Users\\vikra\\Downloads\\passportcanada\"\n",
    "# Loop through each file in the directory\n",
    "for filename in os.listdir(dir_path):\n",
    "    img_path=os.path.join(dir_path, filename)\n",
    "    result = ocr.ocr(img_path, cls=True)\n",
    "    result = result[0]\n",
    "    image = Image.open(img_path).convert('RGB')\n",
    "    boxes = [line[0] for line in result]\n",
    "    txts = [line[1][0] for line in result]\n",
    "    scores = [line[1][1] for line in result]\n",
    "    im_show = draw_ocr(image, boxes, txts, scores, font_path='C:\\\\Users\\\\vikra\\\\OneDrive\\\\Documents\\\\important__\\\\OpenSans-Semibold.ttf')\n",
    "    im_show = Image.fromarray(im_show)\n",
    "    new_filename = f\"new_{filename}\"\n",
    "    #img.save(os.path.join(dir_path, new_filename))\n",
    "\n",
    "    im_show.save(dir_path+'/'+'r'+filename+'.jpg')\n",
    "        "
   ]
  },
  {
   "cell_type": "code",
   "execution_count": 4,
   "id": "b4b85938",
   "metadata": {},
   "outputs": [
    {
     "data": {
      "text/plain": [
       "'C:\\\\Users\\\\vikra\\\\OneDrive\\\\Documents\\\\important__\\\\oct2023'"
      ]
     },
     "execution_count": 4,
     "metadata": {},
     "output_type": "execute_result"
    }
   ],
   "source": [
    "pwd"
   ]
  },
  {
   "cell_type": "code",
   "execution_count": null,
   "id": "e82cac40",
   "metadata": {},
   "outputs": [],
   "source": []
  }
 ],
 "metadata": {
  "kernelspec": {
   "display_name": "Python 3",
   "language": "python",
   "name": "python3"
  },
  "language_info": {
   "codemirror_mode": {
    "name": "ipython",
    "version": 3
   },
   "file_extension": ".py",
   "mimetype": "text/x-python",
   "name": "python",
   "nbconvert_exporter": "python",
   "pygments_lexer": "ipython3",
   "version": "3.7.6"
  }
 },
 "nbformat": 4,
 "nbformat_minor": 5
}
